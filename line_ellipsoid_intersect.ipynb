{
 "cells": [
  {
   "cell_type": "code",
   "execution_count": 1,
   "id": "69d4ab86",
   "metadata": {},
   "outputs": [],
   "source": [
    "#Environment\n",
    "import sympy as sp\n",
    "# variables \n",
    "t, x0, k, y0, j, z0, x, y, z, a, b, c = sp.symbols('t x0 k y0 j z0 x y z a b c')"
   ]
  },
  {
   "cell_type": "code",
   "execution_count": 2,
   "id": "efcabe62",
   "metadata": {},
   "outputs": [
    {
     "data": {
      "text/plain": [
       "(t + x0, k*t + y0, j*t + z0)"
      ]
     },
     "execution_count": 2,
     "metadata": {},
     "output_type": "execute_result"
    }
   ],
   "source": [
    "#lines\n",
    "xline = t + x0\n",
    "yline = k*t + y0\n",
    "zline = j*t + z0\n",
    "xline,yline,zline"
   ]
  },
  {
   "cell_type": "code",
   "execution_count": 3,
   "id": "a8ec6b5e",
   "metadata": {},
   "outputs": [
    {
     "data": {
      "text/latex": [
       "$\\displaystyle -1 + \\frac{z^{2}}{c^{2}} + \\frac{y^{2}}{b^{2}} + \\frac{x^{2}}{a^{2}} = 0$"
      ],
      "text/plain": [
       "Eq(-1 + z**2/c**2 + y**2/b**2 + x**2/a**2, 0)"
      ]
     },
     "execution_count": 3,
     "metadata": {},
     "output_type": "execute_result"
    }
   ],
   "source": [
    "#ellipsoid\n",
    "ellipsoid = sp.Eq(x**2/a**2 + y**2/b**2 + z**2/c**2-1,0)\n",
    "ellipsoid"
   ]
  },
  {
   "cell_type": "code",
   "execution_count": 4,
   "id": "683df23a",
   "metadata": {},
   "outputs": [
    {
     "data": {
      "text/latex": [
       "$\\displaystyle -1 + \\frac{\\left(j t + z_{0}\\right)^{2}}{c^{2}} + \\frac{\\left(t + x_{0}\\right)^{2}}{a^{2}} + \\frac{\\left(k t + y_{0}\\right)^{2}}{a^{2}} = 0$"
      ],
      "text/plain": [
       "Eq(-1 + (j*t + z0)**2/c**2 + (t + x0)**2/a**2 + (k*t + y0)**2/a**2, 0)"
      ]
     },
     "execution_count": 4,
     "metadata": {},
     "output_type": "execute_result"
    }
   ],
   "source": [
    "# combine ellipsoid and lines & change b to a, as b == a in wgs1984 geoid\n",
    "ellipsoid_2 = sp.Eq(xline**2/a**2 + yline**2/a**2 + zline**2/c**2-1,0)\n",
    "ellipsoid_2"
   ]
  },
  {
   "cell_type": "code",
   "execution_count": 5,
   "id": "2e25203a",
   "metadata": {},
   "outputs": [
    {
     "data": {
      "text/latex": [
       "$\\displaystyle \\frac{c \\sqrt{a^{4} j^{2} + a^{2} c^{2} k^{2} + a^{2} c^{2} - a^{2} j^{2} x_{0}^{2} - a^{2} j^{2} y_{0}^{2} + 2 a^{2} j k y_{0} z_{0} + 2 a^{2} j x_{0} z_{0} - a^{2} k^{2} z_{0}^{2} - a^{2} z_{0}^{2} - c^{2} k^{2} x_{0}^{2} + 2 c^{2} k x_{0} y_{0} - c^{2} y_{0}^{2}}}{a^{2} j^{2} + c^{2} k^{2} + c^{2}} - \\frac{a^{2} j z_{0} + c^{2} k y_{0} + c^{2} x_{0}}{a^{2} j^{2} + c^{2} k^{2} + c^{2}}$"
      ],
      "text/plain": [
       "c*sqrt(a**4*j**2 + a**2*c**2*k**2 + a**2*c**2 - a**2*j**2*x0**2 - a**2*j**2*y0**2 + 2*a**2*j*k*y0*z0 + 2*a**2*j*x0*z0 - a**2*k**2*z0**2 - a**2*z0**2 - c**2*k**2*x0**2 + 2*c**2*k*x0*y0 - c**2*y0**2)/(a**2*j**2 + c**2*k**2 + c**2) - (a**2*j*z0 + c**2*k*y0 + c**2*x0)/(a**2*j**2 + c**2*k**2 + c**2)"
      ]
     },
     "execution_count": 5,
     "metadata": {},
     "output_type": "execute_result"
    }
   ],
   "source": [
    "#solve for t with solveset. Positive x quadrant\n",
    "expr = list(sp.solveset(ellipsoid_2,t))[0]\n",
    "expr"
   ]
  },
  {
   "cell_type": "code",
   "execution_count": 6,
   "id": "7aa2ef36",
   "metadata": {},
   "outputs": [
    {
     "data": {
      "text/latex": [
       "$\\displaystyle - \\frac{c \\sqrt{a^{4} j^{2} + a^{2} c^{2} k^{2} + a^{2} c^{2} - a^{2} j^{2} x_{0}^{2} - a^{2} j^{2} y_{0}^{2} + 2 a^{2} j k y_{0} z_{0} + 2 a^{2} j x_{0} z_{0} - a^{2} k^{2} z_{0}^{2} - a^{2} z_{0}^{2} - c^{2} k^{2} x_{0}^{2} + 2 c^{2} k x_{0} y_{0} - c^{2} y_{0}^{2}}}{a^{2} j^{2} + c^{2} k^{2} + c^{2}} - \\frac{a^{2} j z_{0} + c^{2} k y_{0} + c^{2} x_{0}}{a^{2} j^{2} + c^{2} k^{2} + c^{2}}$"
      ],
      "text/plain": [
       "-c*sqrt(a**4*j**2 + a**2*c**2*k**2 + a**2*c**2 - a**2*j**2*x0**2 - a**2*j**2*y0**2 + 2*a**2*j*k*y0*z0 + 2*a**2*j*x0*z0 - a**2*k**2*z0**2 - a**2*z0**2 - c**2*k**2*x0**2 + 2*c**2*k*x0*y0 - c**2*y0**2)/(a**2*j**2 + c**2*k**2 + c**2) - (a**2*j*z0 + c**2*k*y0 + c**2*x0)/(a**2*j**2 + c**2*k**2 + c**2)"
      ]
     },
     "execution_count": 6,
     "metadata": {},
     "output_type": "execute_result"
    }
   ],
   "source": [
    "#solve for t with solveset. Negative x quadrant\n",
    "expr2 = list(sp.solveset(ellipsoid_2,t))[1]\n",
    "expr2"
   ]
  },
  {
   "cell_type": "code",
   "execution_count": null,
   "id": "5f62e295",
   "metadata": {},
   "outputs": [],
   "source": []
  },
  {
   "cell_type": "code",
   "execution_count": 8,
   "id": "dc5ffa9b",
   "metadata": {},
   "outputs": [
    {
     "data": {
      "text/plain": [
       "'c.*sqrt(a.^4.*j.^2 + a.^2.*c.^2.*k.^2 + a.^2.*c.^2 - a.^2.*j.^2.*x0.^2 - a.^2.*j.^2.*y0.^2 + 2*a.^2.*j.*k.*y0.*z0 + 2*a.^2.*j.*x0.*z0 - a.^2.*k.^2.*z0.^2 - a.^2.*z0.^2 - c.^2.*k.^2.*x0.^2 + 2*c.^2.*k.*x0.*y0 - c.^2.*y0.^2)./(a.^2.*j.^2 + c.^2.*k.^2 + c.^2) - (a.^2.*j.*z0 + c.^2.*k.*y0 + c.^2.*x0)./(a.^2.*j.^2 + c.^2.*k.^2 + c.^2)'"
      ]
     },
     "execution_count": 8,
     "metadata": {},
     "output_type": "execute_result"
    }
   ],
   "source": [
    "#MATLAB EXOPORT\n",
    "sp.octave_code(expr)"
   ]
  },
  {
   "cell_type": "code",
   "execution_count": 9,
   "id": "3a2ceee5",
   "metadata": {},
   "outputs": [
    {
     "name": "stdout",
     "output_type": "stream",
     "text": [
      "\\frac{c \\sqrt{a^{4} j^{2} + a^{2} c^{2} k^{2} + a^{2} c^{2} - a^{2} j^{2} x_{0}^{2} - a^{2} j^{2} y_{0}^{2} + 2 a^{2} j k y_{0} z_{0} + 2 a^{2} j x_{0} z_{0} - a^{2} k^{2} z_{0}^{2} - a^{2} z_{0}^{2} - c^{2} k^{2} x_{0}^{2} + 2 c^{2} k x_{0} y_{0} - c^{2} y_{0}^{2}}}{a^{2} j^{2} + c^{2} k^{2} + c^{2}} - \\frac{a^{2} j z_{0} + c^{2} k y_{0} + c^{2} x_{0}}{a^{2} j^{2} + c^{2} k^{2} + c^{2}}\n"
     ]
    }
   ],
   "source": [
    "sp.print_latex(expr)"
   ]
  },
  {
   "cell_type": "code",
   "execution_count": null,
   "id": "35ef1a8e",
   "metadata": {},
   "outputs": [],
   "source": []
  }
 ],
 "metadata": {
  "kernelspec": {
   "display_name": "Python 3 (ipykernel)",
   "language": "python",
   "name": "python3"
  },
  "language_info": {
   "codemirror_mode": {
    "name": "ipython",
    "version": 3
   },
   "file_extension": ".py",
   "mimetype": "text/x-python",
   "name": "python",
   "nbconvert_exporter": "python",
   "pygments_lexer": "ipython3",
   "version": "3.9.12"
  }
 },
 "nbformat": 4,
 "nbformat_minor": 5
}
